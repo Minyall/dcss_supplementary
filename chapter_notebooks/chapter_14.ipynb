{
 "cells": [
  {
   "cell_type": "markdown",
   "metadata": {},
   "source": [
    "# <font color=\"#49699E\" size=40>Connection and Clustering in Social Networks</font>\n",
    "# LEARNING OBJECTIVES\n",
    "# LEARNING MATERIALS\n",
    "# INTRODUCTION\n",
    "## Imports"
   ]
  },
  {
   "cell_type": "code",
   "execution_count": null,
   "metadata": {},
   "outputs": [],
   "source": [
    "import pandas as pd\n",
    "pd.set_option(\"display.notebook_repr_html\", False)\n",
    "import numpy as np\n",
    "\n",
    "from sklearn.metrics.pairwise import euclidean_distances\n",
    "from scipy.cluster import hierarchy\n",
    "\n",
    "import networkx as nx\n",
    "from networkx.algorithms.community import k_clique_communities\n",
    "from networkx.algorithms.triads import triadic_census\n",
    "import community\n",
    "\n",
    "import matplotlib\n",
    "import matplotlib.pyplot as plt\n",
    "import seaborn as sns\n",
    "\n",
    "import random\n",
    "\n",
    "from dcss.plotting import format_axes_commas, custom_seaborn\n",
    "custom_seaborn()"
   ]
  },
  {
   "cell_type": "markdown",
   "metadata": {},
   "source": [
    "## Data\n"
   ]
  },
  {
   "cell_type": "code",
   "execution_count": null,
   "metadata": {},
   "outputs": [],
   "source": [
    "contact_diaries = pd.read_csv(\"../data/SocioPatterns/Contact-diaries-network_data_2013.csv\", sep=' ')\n",
    "\n",
    "G = nx.from_pandas_edgelist(contact_diaries, 'i', 'j', create_using=nx.Graph())\n",
    "G.name = 'Reported Contacts (Diary Data)'\n",
    "print(nx.info(G))"
   ]
  },
  {
   "cell_type": "code",
   "execution_count": null,
   "metadata": {},
   "outputs": [],
   "source": [
    "contact_diaries.j.unique()[:5]"
   ]
  },
  {
   "cell_type": "markdown",
   "metadata": {},
   "source": [
    "# MICRO-LEVEL NETWORK STRUCTURE AND PROCESSES\n",
    "## Dyads and Reciprocity\n"
   ]
  },
  {
   "cell_type": "markdown",
   "metadata": {},
   "source": [
    "## Triads and Triadic Closure"
   ]
  },
  {
   "cell_type": "markdown",
   "metadata": {},
   "source": [
    "## MAN for Triads\n"
   ]
  },
  {
   "cell_type": "code",
   "execution_count": null,
   "metadata": {},
   "outputs": [],
   "source": [
    "from networkx.algorithms.triads import triadic_census\n",
    "\n",
    "gn_50 = nx.gn_graph(50, seed = 42)\n",
    "sim_50 = pd.Series(triadic_census(gn_50))\n",
    "sim_50"
   ]
  },
  {
   "cell_type": "code",
   "execution_count": null,
   "metadata": {},
   "outputs": [],
   "source": [
    "gn = nx.gn_graph(20, seed = 42)\n",
    "gn.name = \"Simulated DiGraph with 20 Nodes\"\n",
    "\n",
    "def describe_simulated_network(network):\n",
    "    print(f'Network: {network.name}')\n",
    "    print(f'Number of nodes: {network.number_of_nodes()}')\n",
    "    print(f'Number of edges: {network.number_of_edges()}')\n",
    "    print(f'Density: {nx.density(network)}')\n",
    "    \n",
    "describe_simulated_network(gn)"
   ]
  },
  {
   "cell_type": "code",
   "execution_count": null,
   "metadata": {},
   "outputs": [],
   "source": [
    "layout = nx.fruchterman_reingold_layout(gn, seed=12)\n",
    "\n",
    "nx.draw(gn, layout, node_color='darkgray',\n",
    "        edge_color='gray', node_size=100, width=1)\n",
    "\n",
    "plt.show()"
   ]
  },
  {
   "cell_type": "code",
   "execution_count": null,
   "metadata": {},
   "outputs": [],
   "source": [
    "sim_20_a = pd.Series(triadic_census(gn))\n",
    "sim_20_a"
   ]
  },
  {
   "cell_type": "code",
   "execution_count": null,
   "metadata": {},
   "outputs": [],
   "source": [
    "gn.add_node(\"an isolate\")\n",
    "describe_simulated_network(gn)"
   ]
  },
  {
   "cell_type": "code",
   "execution_count": null,
   "metadata": {},
   "outputs": [],
   "source": [
    "sim_20_b = pd.Series(triadic_census(gn))\n",
    "sim_20_b"
   ]
  },
  {
   "cell_type": "code",
   "execution_count": null,
   "metadata": {},
   "outputs": [],
   "source": [
    "fig, ax = plt.subplots()\n",
    "sns.scatterplot(x=sim_20_a,\n",
    "                y=sim_20_a.index,\n",
    "                s=50,\n",
    "                alpha=.8,\n",
    "                label=\"Simulated network\")\n",
    "sns.scatterplot(x=sim_20_b,\n",
    "                y=sim_20_b.index,\n",
    "                color='crimson',\n",
    "                marker=\"+\",\n",
    "                s=80,\n",
    "                label=\"Simulated network + one isolate\")\n",
    "ax.set(xlabel='Count', ylabel='Triad configurations')\n",
    "sns.despine()\n",
    "plt.legend()\n",
    "plt.show()"
   ]
  },
  {
   "cell_type": "code",
   "execution_count": null,
   "metadata": {},
   "outputs": [],
   "source": [
    "clustered_g = nx.null_graph(create_using=nx.DiGraph())\n",
    "nodes = range(0,20)\n",
    "\n",
    "for node in nodes:\n",
    "    clustered_g.add_node(str(node))\n",
    "\n",
    "for i in range(0,9):\n",
    "    for j in range(0,9):\n",
    "        if i != j:\n",
    "            clustered_g.add_edge(str(i), str(j))\n",
    "\n",
    "clustered_g.name = 'Simulated DiGraph, Clustered'\n",
    "describe_simulated_network(clustered_g)"
   ]
  },
  {
   "cell_type": "code",
   "execution_count": null,
   "metadata": {},
   "outputs": [],
   "source": [
    "import random\n",
    "\n",
    "not_clustered_g = nx.null_graph(create_using=nx.DiGraph())\n",
    "\n",
    "for node in nodes:\n",
    "    not_clustered_g.add_node(str(node))\n",
    "\n",
    "for i in range(0,72):\n",
    "    random_from = str(random.randint(0,19))\n",
    "    random_to = str(random.randint(0,19))\n",
    "    while not_clustered_g.has_edge(random_from, random_to):\n",
    "        random_from = str(random.randint(0,19))\n",
    "        random_to = str(random.randint(0,19))\n",
    "    not_clustered_g.add_edge(random_from, random_to)\n",
    "            \n",
    "not_clustered_g.name = 'Simulated DiGraph, Not Clustered'\n",
    "describe_simulated_network(not_clustered_g)"
   ]
  },
  {
   "cell_type": "code",
   "execution_count": null,
   "metadata": {},
   "outputs": [],
   "source": [
    "tc_clustered = pd.Series(triadic_census(clustered_g))\n",
    "tc_not_clustered = pd.Series(triadic_census(not_clustered_g))"
   ]
  },
  {
   "cell_type": "code",
   "execution_count": null,
   "metadata": {},
   "outputs": [],
   "source": [
    "fig, ax = plt.subplots()\n",
    "sns.scatterplot(x=tc_clustered,\n",
    "                y=tc_clustered.index,\n",
    "                s=50,\n",
    "                alpha=.8,\n",
    "                label=\"Simulated network, clustered\")\n",
    "sns.scatterplot(x=tc_not_clustered,\n",
    "                y=tc_not_clustered.index,\n",
    "                color='crimson',\n",
    "                marker=\"+\",\n",
    "                s=80,\n",
    "                label=\"Simulated network, not clustered\")\n",
    "ax.set(xlabel='Count', ylabel='Triad configurations')\n",
    "sns.despine()\n",
    "\n",
    "plt.legend()\n",
    "plt.show()"
   ]
  },
  {
   "cell_type": "markdown",
   "metadata": {},
   "source": [
    "# DETECTING COHESIVE SUBGROUPS AND ASSORTATIVE STRUCTURE\n"
   ]
  },
  {
   "cell_type": "markdown",
   "metadata": {},
   "source": [
    "## Cliques and $k$-Clique Communities \n"
   ]
  },
  {
   "cell_type": "code",
   "execution_count": null,
   "metadata": {},
   "outputs": [],
   "source": [
    "k = 5\n",
    "ccs = list(k_clique_communities(G, k))\n",
    "print(f'Identified {len(ccs)} {k}-clique communities.')"
   ]
  },
  {
   "cell_type": "code",
   "execution_count": null,
   "metadata": {},
   "outputs": [],
   "source": [
    "communities = [list(c) for c in ccs]\n",
    "for c in communities:\n",
    "    print(c)"
   ]
  },
  {
   "cell_type": "code",
   "execution_count": null,
   "metadata": {},
   "outputs": [],
   "source": [
    "kccs = {}\n",
    "for node in G.nodes():\n",
    "    kcliques = [communities.index(c) for c in communities if node in list(c)]\n",
    "    kccs[node] = kcliques"
   ]
  },
  {
   "cell_type": "code",
   "execution_count": null,
   "metadata": {},
   "outputs": [],
   "source": [
    "overlapping_nodes = []\n",
    "in_any_kclique = []\n",
    "\n",
    "for k, v in kccs.items():\n",
    "    if len(v) > 1:\n",
    "        overlapping_nodes.append(k)\n",
    "    if len(v) >= 1:\n",
    "        in_any_kclique.append(k)\n",
    "\n",
    "print(\n",
    "    f'{len(overlapping_nodes)} nodes belong to multiple $k$-clique communities: {overlapping_nodes}.'\n",
    ")\n",
    "print(\n",
    "    f'{len(in_any_kclique)} nodes ({np.round(len(in_any_kclique)/len(G), 2)*100}% of the network) are embedded in at least one $k$-clique community.'\n",
    ")"
   ]
  },
  {
   "cell_type": "code",
   "execution_count": null,
   "metadata": {},
   "outputs": [],
   "source": [
    "layout = nx.nx_pydot.graphviz_layout(G)"
   ]
  },
  {
   "cell_type": "code",
   "execution_count": null,
   "metadata": {},
   "outputs": [],
   "source": [
    "edges_in_kcliques = [\n",
    "    e for e in G.edges() if e[0] in in_any_kclique and e[1] in in_any_kclique\n",
    "]\n",
    "\n",
    "labs = {}\n",
    "for k, v in kccs.items():\n",
    "    if len(v) == 1:\n",
    "        labs[k] = v[0]\n",
    "\n",
    "nx.draw(G,\n",
    "        layout,\n",
    "        node_color='darkgray',\n",
    "        edge_color='lightgray',\n",
    "        node_size=50,\n",
    "        width=.5)\n",
    "nx.draw_networkx_nodes(G,\n",
    "                       layout,\n",
    "                       node_color='crimson',\n",
    "                       node_size=50,\n",
    "                       nodelist=in_any_kclique)\n",
    "nx.draw_networkx_edges(G,\n",
    "                       layout,\n",
    "                       edge_color='crimson',\n",
    "                       edgelist=edges_in_kcliques)\n",
    "labs = nx.draw_networkx_labels(G,\n",
    "                               layout,\n",
    "                               labels=labs,\n",
    "                               font_size=6,\n",
    "                               font_color='white')"
   ]
  },
  {
   "cell_type": "markdown",
   "metadata": {},
   "source": [
    "## Community Detection using Louvain and Leiden\n"
   ]
  },
  {
   "cell_type": "code",
   "execution_count": null,
   "metadata": {},
   "outputs": [],
   "source": [
    "part = community.best_partition(G)\n",
    "q = community.modularity(part, G)\n",
    "print(f\"The modularity of the network is {np.round(q, 3)}.\")"
   ]
  },
  {
   "cell_type": "code",
   "execution_count": null,
   "metadata": {},
   "outputs": [],
   "source": [
    "colors = [part[n] for n in G.nodes()]\n",
    "my_colors = plt.cm.Set2\n",
    "\n",
    "fig, ax = plt.subplots(figsize=(12, 8))\n",
    "nx.draw_networkx_nodes(G,\n",
    "                       pos=layout,\n",
    "                       node_size=100,\n",
    "                       node_color=colors,\n",
    "                       cmap=my_colors)\n",
    "nx.draw_networkx_edges(G, pos=layout, edge_color='lightgray', width=1)\n",
    "plt.axis('off')\n",
    "\n",
    "plt.show()"
   ]
  },
  {
   "cell_type": "code",
   "execution_count": null,
   "metadata": {},
   "outputs": [],
   "source": [
    "inet = community.induced_graph(part, G)\n",
    "inet.name = \"Induced Ego Network\"\n",
    "\n",
    "weights = [inet[u][v]['weight']  for u,v in inet.edges()]\n",
    "ipos = nx.nx_pydot.graphviz_layout(inet)\n",
    "\n",
    "nx.draw(inet, \n",
    "        node_color = 'black',\n",
    "        pos = ipos,\n",
    "        with_labels = True, \n",
    "        font_color = 'white', \n",
    "        font_size = 8, \n",
    "        width=weights,\n",
    "        edge_color = \"gray\")"
   ]
  },
  {
   "cell_type": "code",
   "execution_count": null,
   "metadata": {},
   "outputs": [],
   "source": [
    "community = 14\n",
    "for k,v in part.items():\n",
    "    if v == community:\n",
    "        print(k)"
   ]
  },
  {
   "cell_type": "markdown",
   "metadata": {},
   "source": [
    "### From Louvain to Leiden"
   ]
  },
  {
   "cell_type": "code",
   "execution_count": null,
   "metadata": {},
   "outputs": [],
   "source": [
    "import igraph as ig\n",
    "import leidenalg as la"
   ]
  },
  {
   "cell_type": "code",
   "execution_count": null,
   "metadata": {},
   "outputs": [],
   "source": [
    "H = ig.Graph.DataFrame(contact_diaries, directed = False)\n",
    "part_leiden = la.find_partition(H, la.ModularityVertexPartition)"
   ]
  },
  {
   "cell_type": "code",
   "execution_count": null,
   "metadata": {},
   "outputs": [],
   "source": [
    "partition = part.copy()\n",
    "for membership, node in zip(part_leiden._membership, part_leiden._graph.vs['name']):\n",
    "    partition[node] = membership"
   ]
  },
  {
   "cell_type": "code",
   "execution_count": null,
   "metadata": {},
   "outputs": [],
   "source": [
    "colors = [partition[n] for n in G.nodes()]\n",
    "my_colors = plt.cm.Set2\n",
    "\n",
    "fig, ax = plt.subplots(figsize=(12, 8))\n",
    "nx.draw_networkx_nodes(G,\n",
    "                       pos=layout,\n",
    "                       node_size=100,\n",
    "                       node_color=colors,\n",
    "                       cmap=my_colors)\n",
    "nx.draw_networkx_edges(G, pos=layout, edge_color='lightgray', width=1)\n",
    "plt.axis('off')\n",
    "\n",
    "plt.show()"
   ]
  },
  {
   "cell_type": "code",
   "execution_count": null,
   "metadata": {},
   "outputs": [],
   "source": [
    "dH = ig.Graph.DataFrame(contact_diaries, directed = True)\n",
    "part_leiden = la.find_partition(dH, la.ModularityVertexPartition, weights = dH.es['weight'])\n",
    "\n",
    "for membership, node in zip(part_leiden._membership, part_leiden._graph.vs['name']):\n",
    "    partition[node] = membership"
   ]
  },
  {
   "cell_type": "code",
   "execution_count": null,
   "metadata": {},
   "outputs": [],
   "source": [
    "colors = [partition[n] for n in G.nodes()]\n",
    "my_colors = plt.cm.Set2\n",
    "\n",
    "fig, ax = plt.subplots(figsize=(12, 8))\n",
    "nx.draw_networkx_nodes(G,\n",
    "                       pos=layout,\n",
    "                       node_size=100,\n",
    "                       node_color=colors,\n",
    "                       cmap=my_colors)\n",
    "nx.draw_networkx_edges(G, pos=layout, edge_color='lightgray', width=1)\n",
    "plt.axis('off')\n",
    "\n",
    "plt.show()"
   ]
  },
  {
   "cell_type": "markdown",
   "metadata": {},
   "source": [
    "## Components and $k$-cores\n",
    "### Components\n"
   ]
  },
  {
   "cell_type": "code",
   "execution_count": null,
   "metadata": {},
   "outputs": [],
   "source": [
    "nx.number_connected_components(G)"
   ]
  },
  {
   "cell_type": "code",
   "execution_count": null,
   "metadata": {},
   "outputs": [],
   "source": [
    "comps_sizes = [len(c) for c in sorted(nx.connected_components(G), key=len, reverse=True)]\n",
    "print(comps_sizes)"
   ]
  },
  {
   "cell_type": "code",
   "execution_count": null,
   "metadata": {},
   "outputs": [],
   "source": [
    "components = sorted(nx.connected_components(G), key=len, reverse=True)\n",
    "giant = G.subgraph(components[0])\n",
    "giant.name = \"Communication Network, Giant Component\"\n",
    "print(nx.info(giant))"
   ]
  },
  {
   "cell_type": "markdown",
   "metadata": {},
   "source": [
    "### $k$-Cores\n"
   ]
  },
  {
   "cell_type": "code",
   "execution_count": null,
   "metadata": {},
   "outputs": [],
   "source": [
    "ks = [1,2,3,4,5,6,7,8]\n",
    "nnodes = []\n",
    "nedges = []\n",
    "\n",
    "for k in ks:\n",
    "    kcore = nx.k_core(G, k)\n",
    "    nnodes.append(kcore.number_of_nodes())\n",
    "    nedges.append(kcore.number_of_edges())\n",
    "    \n",
    "kdf = pd.DataFrame([ks,nnodes,nedges]).T\n",
    "kdf.columns = ['Value of K', 'Number of Nodes', 'Number of Edges']\n",
    "kdf"
   ]
  },
  {
   "cell_type": "code",
   "execution_count": null,
   "metadata": {},
   "outputs": [],
   "source": [
    "kcore_4 = nx.k_core(G, 4)\n",
    "kcore_5 = nx.k_core(G, 5)"
   ]
  },
  {
   "cell_type": "code",
   "execution_count": null,
   "metadata": {},
   "outputs": [],
   "source": [
    "# base network\n",
    "nx.draw(G, layout, node_color = 'lightgray', edge_color = 'lightgray', node_size = 30)\n",
    "\n",
    "# draw the nodes in the 4-core gray\n",
    "nx.draw_networkx_nodes(kcore_4, layout, node_size = 30, node_color = 'gray')\n",
    "nx.draw_networkx_edges(kcore_4, layout, node_size = 30, edge_color = 'gray')\n",
    "\n",
    "# draw the nodes in the 5-core in crimson\n",
    "nx.draw_networkx_nodes(kcore_5, layout, node_size = 30, node_color = 'crimson')\n",
    "nx.draw_networkx_edges(kcore_5, layout, node_size = 30, edge_color = 'crimson')\n",
    "plt.show()"
   ]
  },
  {
   "cell_type": "markdown",
   "metadata": {},
   "source": [
    "# CONCLUSION\n",
    "## Key Points \n"
   ]
  },
  {
   "cell_type": "code",
   "execution_count": null,
   "metadata": {},
   "outputs": [],
   "source": []
  }
 ],
 "metadata": {
  "kernelspec": {
   "display_name": "Python 3",
   "language": "python",
   "name": "python3"
  },
  "language_info": {
   "codemirror_mode": {
    "name": "ipython",
    "version": 3
   },
   "file_extension": ".py",
   "mimetype": "text/x-python",
   "name": "python",
   "nbconvert_exporter": "python",
   "pygments_lexer": "ipython3",
   "version": "3.9.0"
  },
  "toc": {
   "base_numbering": 1,
   "nav_menu": {},
   "number_sections": false,
   "sideBar": true,
   "skip_h1_title": false,
   "title_cell": "Table of Contents",
   "title_sidebar": "Contents",
   "toc_cell": false,
   "toc_position": {},
   "toc_section_display": true,
   "toc_window_display": false
  },
  "varInspector": {
   "cols": {
    "lenName": 16,
    "lenType": 16,
    "lenVar": 40
   },
   "kernels_config": {
    "python": {
     "delete_cmd_postfix": "",
     "delete_cmd_prefix": "del ",
     "library": "var_list.py",
     "varRefreshCmd": "print(var_dic_list())"
    },
    "r": {
     "delete_cmd_postfix": ") ",
     "delete_cmd_prefix": "rm(",
     "library": "var_list.r",
     "varRefreshCmd": "cat(var_dic_list()) "
    }
   },
   "types_to_exclude": [
    "module",
    "function",
    "builtin_function_or_method",
    "instance",
    "_Feature"
   ],
   "window_display": false
  }
 },
 "nbformat": 4,
 "nbformat_minor": 4
}
