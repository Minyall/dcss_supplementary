{
 "cells": [
  {
   "cell_type": "markdown",
   "metadata": {},
   "source": [
    "# <font color=\"#49699E\" size=40>Generative Network Analysis with Bayesian Stochastic Blockmodels</font>\n",
    "# LEARNING OUTCOMES\n",
    "# LEARNING MATERIALS\n",
    "# INTRODUCTION\n"
   ]
  },
  {
   "cell_type": "markdown",
   "metadata": {},
   "source": [
    "## Latent Network Structure: Connected Communities and Structural Positions\n"
   ]
  },
  {
   "cell_type": "markdown",
   "metadata": {},
   "source": [
    "### Equivalence?\n"
   ]
  },
  {
   "cell_type": "markdown",
   "metadata": {},
   "source": [
    "### Blockmodels\n"
   ]
  },
  {
   "cell_type": "markdown",
   "metadata": {},
   "source": [
    "## Bayesian Hierarchical Stochastic Blockmodels\n"
   ]
  },
  {
   "cell_type": "markdown",
   "metadata": {},
   "source": [
    "# BLOCKMODELLING WITH GRAPH-TOOL\n"
   ]
  },
  {
   "cell_type": "markdown",
   "metadata": {},
   "source": [
    "## Installing graph-tool\n"
   ]
  },
  {
   "cell_type": "markdown",
   "metadata": {},
   "source": [
    "## Understanding Property Maps\n"
   ]
  },
  {
   "cell_type": "markdown",
   "metadata": {},
   "source": [
    "## Imports"
   ]
  },
  {
   "cell_type": "code",
   "execution_count": null,
   "metadata": {},
   "outputs": [],
   "source": [
    "from graph_tool.all import *\n",
    "import pandas as pd\n",
    "pd.set_option(\"display.notebook_repr_html\", False)\n",
    "import matplotlib\n",
    "import numpy as np\n",
    "import math\n",
    "import pickle\n",
    "from dcss.networks import label_radial_blockmodel, get_block_membership"
   ]
  },
  {
   "cell_type": "markdown",
   "metadata": {},
   "source": [
    "## Data\n"
   ]
  },
  {
   "cell_type": "code",
   "execution_count": null,
   "metadata": {},
   "outputs": [],
   "source": [
    "edges_df = pd.read_csv('../data/enron/enron_full_edge_list.csv')\n",
    "edges_df.head()"
   ]
  },
  {
   "cell_type": "code",
   "execution_count": null,
   "metadata": {},
   "outputs": [],
   "source": [
    "employee_df = pd.read_csv('../data/enron/enron_employees_updated.csv')\n",
    "employee_df.head()"
   ]
  },
  {
   "cell_type": "code",
   "execution_count": null,
   "metadata": {},
   "outputs": [],
   "source": [
    "employee_df['position'].value_counts()"
   ]
  },
  {
   "cell_type": "markdown",
   "metadata": {},
   "source": [
    "### Constructing the Communication Network\n"
   ]
  },
  {
   "cell_type": "code",
   "execution_count": null,
   "metadata": {},
   "outputs": [],
   "source": [
    "edges_df = edges_df.value_counts(['source', 'target']).reset_index(name='count').copy()\n",
    "core_employees = set(employee_df['id'].tolist())\n",
    "\n",
    "core_edges_df = edges_df[edges_df['source'].isin(core_employees) & \n",
    "                         edges_df['target'].isin(core_employees)]"
   ]
  },
  {
   "cell_type": "code",
   "execution_count": null,
   "metadata": {},
   "outputs": [],
   "source": [
    "eG = Graph(directed = True)"
   ]
  },
  {
   "cell_type": "code",
   "execution_count": null,
   "metadata": {},
   "outputs": [],
   "source": [
    "employee_list = employee_df['id'].tolist()\n",
    "title_list = employee_df['position'].tolist()"
   ]
  },
  {
   "cell_type": "code",
   "execution_count": null,
   "metadata": {},
   "outputs": [],
   "source": [
    "vertex_lookup = {}\n",
    "\n",
    "label = eG.new_vertex_property('string')\n",
    "title = eG.new_vertex_property('string')\n",
    "edge_weight = eG.new_edge_property('int')"
   ]
  },
  {
   "cell_type": "code",
   "execution_count": null,
   "metadata": {},
   "outputs": [],
   "source": [
    "for vertex in zip(employee_list, title_list):\n",
    "    # create a new vertex instance\n",
    "    v = eG.add_vertex()\n",
    "\n",
    "    # add attributes to the property maps in the index position of the vertex\n",
    "    label[v] = vertex[0]\n",
    "    title[v] = vertex[1]\n",
    "\n",
    "    # add the vertex to the lookup dictionary, converting it to an integer \n",
    "    vertex_lookup[vertex[0]] = int(v)"
   ]
  },
  {
   "cell_type": "code",
   "execution_count": null,
   "metadata": {},
   "outputs": [],
   "source": [
    "source_list = core_edges_df['source'].tolist()\n",
    "target_list = core_edges_df['target'].tolist()\n",
    "weight_list = core_edges_df['count'].tolist()\n",
    "\n",
    "for nodes in zip(source_list, target_list, weight_list):\n",
    "    from_idx = vertex_lookup[nodes[0]]\n",
    "    to_idx = vertex_lookup[nodes[1]]\n",
    "\n",
    "    # Let's ignore self-loops\n",
    "    if from_idx != to_idx:\n",
    "        edge = eG.add_edge(from_idx, to_idx)\n",
    "        edge_weight[edge] = nodes[2]"
   ]
  },
  {
   "cell_type": "code",
   "execution_count": null,
   "metadata": {},
   "outputs": [],
   "source": [
    "eG.vertex_properties['label'] = label\n",
    "eG.vertex_properties['title'] = title\n",
    "eG.edge_properties['edge_weight'] = edge_weight\n",
    "\n",
    "lookup = eG.new_graph_property('object')\n",
    "lookup[eG] = vertex_lookup\n",
    "eG.graph_properties['vertex_lookup'] = lookup"
   ]
  },
  {
   "cell_type": "markdown",
   "metadata": {},
   "source": [
    "## Developing Stochastic Blockmodels\n"
   ]
  },
  {
   "cell_type": "code",
   "execution_count": null,
   "metadata": {},
   "outputs": [],
   "source": [
    "state = minimize_nested_blockmodel_dl(eG, deg_corr = True)"
   ]
  },
  {
   "cell_type": "code",
   "execution_count": null,
   "metadata": {},
   "outputs": [],
   "source": [
    "state.print_summary()"
   ]
  },
  {
   "cell_type": "code",
   "execution_count": null,
   "metadata": {},
   "outputs": [],
   "source": [
    "state.draw(\n",
    "    layout = \"sfdp\", \n",
    "    vertex_text = eG.vertex_properties['title'], \n",
    "    eorder = eG.edge_properties['edge_weight'],\n",
    "    vertex_text_position = 315,\n",
    "    bg_color=[255,255,255,1],\n",
    "    output_size=[4024,4024],\n",
    "    output='../figures/core_enron_blockmodel_sfdp.png'\n",
    "    )"
   ]
  },
  {
   "cell_type": "code",
   "execution_count": null,
   "metadata": {},
   "outputs": [],
   "source": [
    "state_w = minimize_nested_blockmodel_dl(eG, deg_corr = True, \n",
    "                                              state_args=dict(\n",
    "                                                  recs=[eG.edge_properties['edge_weight']],\n",
    "                                                  rec_types=[\"discrete-binomial\"]))"
   ]
  },
  {
   "cell_type": "code",
   "execution_count": null,
   "metadata": {},
   "outputs": [],
   "source": [
    "state_w.print_summary()"
   ]
  },
  {
   "cell_type": "code",
   "execution_count": null,
   "metadata": {},
   "outputs": [],
   "source": [
    "state_w2 = minimize_nested_blockmodel_dl(eG, deg_corr = True, B_min=12, B_max=12,\n",
    "                                              state_args=dict(\n",
    "                                                  recs=[eG.edge_properties['edge_weight']],\n",
    "                                                  rec_types=[\"discrete-binomial\"]))"
   ]
  },
  {
   "cell_type": "code",
   "execution_count": null,
   "metadata": {},
   "outputs": [],
   "source": [
    "state_w2.print_summary()"
   ]
  },
  {
   "cell_type": "code",
   "execution_count": null,
   "metadata": {},
   "outputs": [],
   "source": [
    "state_w2.draw(\n",
    "    layout = \"sfdp\", \n",
    "    vertex_text = eG.vertex_properties['title'], \n",
    "    eorder = eG.edge_properties['edge_weight'],\n",
    "    vertex_text_position = 315,\n",
    "    bg_color=[255,255,255,1],\n",
    "    output_size=[4024,4024],\n",
    "    output='../figures/core_enron_blockmodel_sfdpw.png'\n",
    "    )"
   ]
  },
  {
   "cell_type": "code",
   "execution_count": null,
   "metadata": {},
   "outputs": [],
   "source": [
    "employee_blocks_df = get_block_membership(state, eG, employee_df,\n",
    "                                         'model_uw_1')\n",
    "employee_blocks_df = get_block_membership(state_w2, eG, employee_blocks_df,\n",
    "                                         'model_w_2')"
   ]
  },
  {
   "cell_type": "code",
   "execution_count": null,
   "metadata": {},
   "outputs": [],
   "source": [
    "df_by_position = employee_blocks_df.groupby('position').agg(list)\n",
    "df_by_position[df_by_position.index.isin(['CEO','President', 'In House Lawyer'])].head()"
   ]
  },
  {
   "cell_type": "code",
   "execution_count": null,
   "metadata": {},
   "outputs": [],
   "source": [
    "employee_blocks_df.groupby(['position'])['model_uw_1_block_id'].agg(lambda x: x.nunique()/x.count())"
   ]
  },
  {
   "cell_type": "code",
   "execution_count": null,
   "metadata": {},
   "outputs": [],
   "source": [
    "print(employee_blocks_df.groupby(['position'])['model_uw_1_block_id'].agg(lambda x: x.nunique()/x.count()).sum())\n",
    "print(employee_blocks_df.groupby(['position'])['model_w_2_block_id'].agg(lambda x: x.nunique()/x.count()).sum())"
   ]
  },
  {
   "cell_type": "code",
   "execution_count": null,
   "metadata": {},
   "outputs": [],
   "source": [
    "employee_blocks_df.groupby(['model_uw_1_block_id'])['position'].agg(lambda x: x.nunique()/x.count())"
   ]
  },
  {
   "cell_type": "code",
   "execution_count": null,
   "metadata": {},
   "outputs": [],
   "source": [
    "print(employee_blocks_df.groupby(['model_uw_1_block_id'])['position'].agg(lambda x: x.nunique()/x.count()).sum())\n",
    "print(employee_blocks_df.groupby(['model_w_2_block_id'])['position'].agg(lambda x: x.nunique()/x.count()).sum())"
   ]
  },
  {
   "cell_type": "code",
   "execution_count": null,
   "metadata": {},
   "outputs": [],
   "source": [
    "from sklearn.metrics import homogeneity_score, completeness_score, adjusted_mutual_info_score"
   ]
  },
  {
   "cell_type": "code",
   "execution_count": null,
   "metadata": {},
   "outputs": [],
   "source": [
    "homogeneity_score(employee_blocks_df['position'], employee_blocks_df['model_uw_1_block_id'])"
   ]
  },
  {
   "cell_type": "code",
   "execution_count": null,
   "metadata": {},
   "outputs": [],
   "source": [
    "homogeneity_score(employee_blocks_df['position'], employee_blocks_df['model_w_2_block_id'])"
   ]
  },
  {
   "cell_type": "code",
   "execution_count": null,
   "metadata": {},
   "outputs": [],
   "source": [
    "completeness_score(employee_blocks_df['position'], employee_blocks_df['model_uw_1_block_id'])"
   ]
  },
  {
   "cell_type": "code",
   "execution_count": null,
   "metadata": {},
   "outputs": [],
   "source": [
    "completeness_score(employee_blocks_df['position'], employee_blocks_df['model_w_2_block_id'])"
   ]
  },
  {
   "cell_type": "code",
   "execution_count": null,
   "metadata": {},
   "outputs": [],
   "source": [
    "adjusted_mutual_info_score(employee_blocks_df['position'], employee_blocks_df['model_uw_1_block_id'])"
   ]
  },
  {
   "cell_type": "code",
   "execution_count": null,
   "metadata": {},
   "outputs": [],
   "source": [
    "adjusted_mutual_info_score(employee_blocks_df['position'], employee_blocks_df['model_w_2_block_id'])"
   ]
  },
  {
   "cell_type": "code",
   "execution_count": null,
   "metadata": {},
   "outputs": [],
   "source": [
    "adjusted_mutual_info_score(employee_blocks_df['model_w_2_block_id'], employee_blocks_df['model_uw_1_block_id'])"
   ]
  },
  {
   "cell_type": "markdown",
   "metadata": {},
   "source": [
    "##  Model Selection and Optimization\n"
   ]
  },
  {
   "cell_type": "code",
   "execution_count": null,
   "metadata": {},
   "outputs": [],
   "source": [
    "states = [minimize_nested_blockmodel_dl(eG, deg_corr=True) \n",
    "          for n in range(10)]\n",
    "\n",
    "for s in states:\n",
    "    print(s.entropy())"
   ]
  },
  {
   "cell_type": "code",
   "execution_count": null,
   "metadata": {},
   "outputs": [],
   "source": [
    "state = states[np.argmin([s.entropy() for s in states])]"
   ]
  },
  {
   "cell_type": "markdown",
   "metadata": {},
   "source": [
    "## More MCMC"
   ]
  },
  {
   "cell_type": "code",
   "execution_count": null,
   "metadata": {},
   "outputs": [],
   "source": [
    "S1 = state.entropy()\n",
    "S1"
   ]
  },
  {
   "cell_type": "code",
   "execution_count": null,
   "metadata": {},
   "outputs": [],
   "source": [
    "state = state.copy(bs=state.get_bs() + [np.zeros(1)] * 4,sampling = True)"
   ]
  },
  {
   "cell_type": "code",
   "execution_count": null,
   "metadata": {},
   "outputs": [],
   "source": [
    "bs = []\n",
    "\n",
    "# our callback function that appends each estimated blockstate to the array\n",
    "def collect_partitions(s):\n",
    "    global bs\n",
    "    bs.append(s.get_bs())\n",
    "        \n",
    "mcmc_equilibrate(state, force_niter=10000, mcmc_args=dict(niter=10), callback=collect_partitions)"
   ]
  },
  {
   "cell_type": "code",
   "execution_count": null,
   "metadata": {},
   "outputs": [],
   "source": [
    "state.entropy() - S1"
   ]
  },
  {
   "cell_type": "code",
   "execution_count": null,
   "metadata": {},
   "outputs": [],
   "source": [
    "pmode = PartitionModeState(bs, nested=True, converge=True)\n",
    "\n",
    "pv = pmode.get_marginal(eG)\n",
    "eG.vertex_properties['pv'] = pv"
   ]
  },
  {
   "cell_type": "code",
   "execution_count": null,
   "metadata": {},
   "outputs": [],
   "source": [
    "bs = pmode.get_max_nested()\n",
    "state = state.copy(bs=bs)\n",
    "state.entropy()"
   ]
  },
  {
   "cell_type": "code",
   "execution_count": null,
   "metadata": {},
   "outputs": [],
   "source": [
    "employee_blocks_df = get_block_membership(state, eG, employee_blocks_df, 'model_uw_mcmc')\n",
    "homogeneity_score(employee_blocks_df['position'], employee_blocks_df['model_uw_mcmc_block_id'])"
   ]
  },
  {
   "cell_type": "code",
   "execution_count": null,
   "metadata": {},
   "outputs": [],
   "source": [
    "completeness_score(employee_blocks_df['position'], employee_blocks_df['model_uw_mcmc_block_id'])"
   ]
  },
  {
   "cell_type": "code",
   "execution_count": null,
   "metadata": {},
   "outputs": [],
   "source": [
    "adjusted_mutual_info_score(employee_blocks_df['position'], employee_blocks_df['model_uw_mcmc_block_id'])"
   ]
  },
  {
   "cell_type": "markdown",
   "metadata": {},
   "source": [
    "## Visualizing Block Connections as a Radial Tree\n"
   ]
  },
  {
   "cell_type": "code",
   "execution_count": null,
   "metadata": {},
   "outputs": [],
   "source": [
    "state.draw()"
   ]
  },
  {
   "cell_type": "code",
   "execution_count": null,
   "metadata": {},
   "outputs": [],
   "source": [
    "eG = label_radial_blockmodel(eG, state)"
   ]
  },
  {
   "cell_type": "code",
   "execution_count": null,
   "metadata": {},
   "outputs": [],
   "source": [
    "state.draw(\n",
    "    vertex_text = eG.vertex_properties['title'], \n",
    "    eorder = eG.edge_properties['edge_weight'],\n",
    "    vertex_shape='pie',\n",
    "    vertex_pie_fractions=eG.vertex_properties['pv'],\n",
    "    edge_control_points = eG.edge_properties['cts'],\n",
    "    pos=eG.vertex_properties['pos'], \n",
    "    vertex_size=10, \n",
    "    edge_pen_width = 0.2,\n",
    "    bg_color=[255,255,255,1],\n",
    "    vertex_text_rotation=eG.vertex_properties['text_rot'],\n",
    "    vertex_text_position=0,\n",
    "    output='../figures/core_state_radial_tree_labels.pdf'\n",
    "    )"
   ]
  },
  {
   "cell_type": "markdown",
   "metadata": {},
   "source": [
    "## TopSBM: A Unified Bayesian Approach to Latent Variable Modelling for Text and Networks\n"
   ]
  },
  {
   "cell_type": "code",
   "execution_count": null,
   "metadata": {},
   "outputs": [],
   "source": [
    "topSBM_model = pickle.load( open( '../data/pickles/can_hansard_100k_sample_topSBM.pkl', 'rb'))"
   ]
  },
  {
   "cell_type": "code",
   "execution_count": null,
   "metadata": {},
   "outputs": [],
   "source": [
    "topic_dict = topSBM_model.topics(l=1,n=20)"
   ]
  },
  {
   "cell_type": "code",
   "execution_count": null,
   "metadata": {},
   "outputs": [],
   "source": [
    "df_list = []\n",
    "for topic in [76,91,200,228,104,126]:\n",
    "    df = pd.DataFrame.from_records(topic_dict[topic], columns = ['words_' + str(topic), 'scores_' + str(topic)])\n",
    "    df_list.append(df)\n",
    "topic_df = pd.concat(df_list, axis=1)\n",
    "topic_df.head(20)"
   ]
  },
  {
   "cell_type": "markdown",
   "metadata": {},
   "source": [
    "# CONCLUSION\n",
    "## Key Points \n"
   ]
  }
 ],
 "metadata": {
  "kernelspec": {
   "display_name": "Python 3",
   "language": "python",
   "name": "python3"
  },
  "language_info": {
   "codemirror_mode": {
    "name": "ipython",
    "version": 3
   },
   "file_extension": ".py",
   "mimetype": "text/x-python",
   "name": "python",
   "nbconvert_exporter": "python",
   "pygments_lexer": "ipython3",
   "version": "3.9.0"
  },
  "toc": {
   "base_numbering": 1,
   "nav_menu": {},
   "number_sections": false,
   "sideBar": true,
   "skip_h1_title": false,
   "title_cell": "Table of Contents",
   "title_sidebar": "Contents",
   "toc_cell": false,
   "toc_position": {},
   "toc_section_display": true,
   "toc_window_display": false
  },
  "varInspector": {
   "cols": {
    "lenName": 16,
    "lenType": 16,
    "lenVar": 40
   },
   "kernels_config": {
    "python": {
     "delete_cmd_postfix": "",
     "delete_cmd_prefix": "del ",
     "library": "var_list.py",
     "varRefreshCmd": "print(var_dic_list())"
    },
    "r": {
     "delete_cmd_postfix": ") ",
     "delete_cmd_prefix": "rm(",
     "library": "var_list.r",
     "varRefreshCmd": "cat(var_dic_list()) "
    }
   },
   "types_to_exclude": [
    "module",
    "function",
    "builtin_function_or_method",
    "instance",
    "_Feature"
   ],
   "window_display": false
  }
 },
 "nbformat": 4,
 "nbformat_minor": 4
}
