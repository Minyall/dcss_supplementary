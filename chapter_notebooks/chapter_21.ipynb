{
 "cells": [
  {
   "cell_type": "markdown",
   "metadata": {},
   "source": [
    "# <font color=\"#49699E\" size=40>Supervised Learning with Tree-Based Models</font>"
   ]
  },
  {
   "cell_type": "markdown",
   "metadata": {},
   "source": [
    "# LEARNING OBJECTIVES\n",
    "# LEARNING MATERIALS\n"
   ]
  },
  {
   "cell_type": "markdown",
   "metadata": {},
   "source": [
    "# INTRODUCTION\n"
   ]
  },
  {
   "cell_type": "markdown",
   "metadata": {},
   "source": [
    "## Imports"
   ]
  },
  {
   "cell_type": "code",
   "execution_count": null,
   "metadata": {},
   "outputs": [],
   "source": [
    "import pandas as pd \n",
    "import numpy as np\n",
    "\n",
    "import matplotlib.pyplot as plt\n",
    "import matplotlib as mpl\n",
    "import seaborn as sns\n",
    "\n",
    "import graphviz\n",
    "\n",
    "from dcss.plotting import plot_knn_decision_boundaries\n",
    "from dcss.plotting import custom_seaborn\n",
    "\n",
    "custom_seaborn()"
   ]
  },
  {
   "cell_type": "markdown",
   "metadata": {},
   "source": [
    "## Preparing the Data\n"
   ]
  },
  {
   "cell_type": "code",
   "execution_count": null,
   "metadata": {},
   "outputs": [],
   "source": [
    "forml = pd.read_csv(\"../data/vdem_internet_freedom_combined/vdem_fh_combined.csv\")"
   ]
  },
  {
   "cell_type": "markdown",
   "metadata": {},
   "source": [
    "## The Train-Test Split and Cross-Validation\n"
   ]
  },
  {
   "cell_type": "code",
   "execution_count": null,
   "metadata": {},
   "outputs": [],
   "source": [
    "from sklearn.model_selection import train_test_split\n",
    "\n",
    "X = forml[['v2x_polyarchy', 'v2x_libdem', 'v2x_partipdem', 'v2x_delibdem', 'v2x_egaldem',]]\n",
    "y = forml[['Total Score']]\n",
    "\n",
    "X_train, X_test, y_train, y_test = train_test_split(X, y, random_state=23)"
   ]
  },
  {
   "cell_type": "markdown",
   "metadata": {},
   "source": [
    "# RULES-BASED LEARNING WITH TREES\n",
    "## Decision Trees\n"
   ]
  },
  {
   "cell_type": "code",
   "execution_count": null,
   "metadata": {},
   "outputs": [],
   "source": [
    "from sklearn.tree import DecisionTreeClassifier, export_graphviz\n",
    "from graphviz import Source\n",
    "from sklearn.preprocessing import LabelEncoder\n",
    "\n",
    "dem_indices = pd.read_csv(\"../data/vdem_internet_freedom_combined/dem_indices.csv\")\n",
    "\n",
    "X = dem_indices[[\n",
    "                 'v2smgovdom_osp', # Government dissemination of false information domestic\n",
    "                 \"v2smgovfilprc_osp\", # Government internet filtering in practice\n",
    "                 \"v2smgovsmcenprc_osp\", # Government social media censorship in practice\n",
    "                 \"v2smonper_osp\", # Diversity of online media perspectives (0 = gov't only, 4 = any perspective)\n",
    "                 \"v2smarrest_osp\", # Arrests for political content disseminated online\n",
    "]]\n",
    "\n",
    "interpretable_names = [\n",
    "    'Domestic Misinformation',\n",
    "    'Internet Filtering',\n",
    "    'Social Media Censorship',\n",
    "    'Online Media Diversity',\n",
    "    'Arrests for Political Content'\n",
    "]\n",
    "\n",
    "regime_types = [\n",
    "    'Autocracy',\n",
    "    'Democracy',\n",
    "]\n",
    "\n",
    "\n",
    "le = LabelEncoder()\n",
    "labels = le.fit_transform(regime_types)\n",
    "\n",
    "y = np.where(dem_indices[\"v2x_regime\"] <= 1, 0, 1).copy()"
   ]
  },
  {
   "cell_type": "code",
   "execution_count": null,
   "metadata": {},
   "outputs": [],
   "source": [
    "from sklearn.model_selection import cross_val_score\n",
    "from sklearn.model_selection import ShuffleSplit\n",
    "\n",
    "X_train, X_test, y_train, y_test = train_test_split(X, y, random_state=23)\n",
    "\n",
    "shuffsplit = ShuffleSplit(n_splits=5, test_size=0.3, random_state=42)\n",
    "\n",
    "dtclass = DecisionTreeClassifier(random_state=0)\n",
    "dt_scores = cross_val_score(dtclass, X_train, y_train, cv=shuffsplit)\n",
    "print(dt_scores)\n",
    "print(f\"Mean: {dt_scores.mean()}\")"
   ]
  },
  {
   "cell_type": "code",
   "execution_count": null,
   "metadata": {},
   "outputs": [],
   "source": [
    "# dem_indices.v2x_regime"
   ]
  },
  {
   "cell_type": "code",
   "execution_count": null,
   "metadata": {},
   "outputs": [],
   "source": [
    "from sklearn import preprocessing\n",
    "\n",
    "dt_fitted = dtclass.fit(X_train, y_train)\n",
    "\n",
    "export_graphviz(\n",
    "    dtclass,\n",
    "    out_file='../graphical_models/classified_1.gv', \n",
    "    filled=False,\n",
    "    rounded=True,\n",
    "    feature_names=interpretable_names,\n",
    "    class_names=le.classes_,\n",
    ")"
   ]
  },
  {
   "cell_type": "markdown",
   "metadata": {},
   "source": [
    "### What About Overfitting?\n"
   ]
  },
  {
   "cell_type": "code",
   "execution_count": null,
   "metadata": {},
   "outputs": [],
   "source": [
    "dtclass_pruned = DecisionTreeClassifier(max_depth=3, random_state=0)\n",
    "dt_scores = cross_val_score(dtclass_pruned, X_train, y_train, cv=shuffsplit)\n",
    "print(dt_scores)\n",
    "print(f\"Mean: {dt_scores.mean()}\")"
   ]
  },
  {
   "cell_type": "code",
   "execution_count": null,
   "metadata": {},
   "outputs": [],
   "source": [
    "dtclass_pruned.fit(X_train, y_train)\n",
    "\n",
    "export_graphviz(\n",
    "    dtclass_pruned,\n",
    "    out_file='../graphical_models/pruned.gv',\n",
    "    filled=False,\n",
    "    rounded=True,\n",
    "    feature_names=interpretable_names,\n",
    "    class_names=le.classes_,\n",
    ")"
   ]
  },
  {
   "cell_type": "code",
   "execution_count": null,
   "metadata": {},
   "outputs": [],
   "source": [
    "dtclass_pruned.score(X_test, y_test)"
   ]
  },
  {
   "cell_type": "markdown",
   "metadata": {},
   "source": [
    "# ENSEMBLE LEARNING\n"
   ]
  },
  {
   "cell_type": "code",
   "execution_count": null,
   "metadata": {},
   "outputs": [],
   "source": [
    "from sklearn.ensemble import BaggingClassifier\n",
    "\n",
    "bag_of_trees = BaggingClassifier(DecisionTreeClassifier(),\n",
    "                                n_estimators=100,\n",
    "                                bootstrap=True,\n",
    "                                random_state=0)\n",
    "\n",
    "bt_scores = cross_val_score(bag_of_trees, X_train, y_train, cv=shuffsplit)\n",
    "print(bt_scores)\n",
    "print(f\"Mean: {bt_scores.mean()}\")"
   ]
  },
  {
   "cell_type": "markdown",
   "metadata": {},
   "source": [
    "## Random Forests\n"
   ]
  },
  {
   "cell_type": "code",
   "execution_count": null,
   "metadata": {},
   "outputs": [],
   "source": [
    "from sklearn.ensemble import RandomForestClassifier\n",
    "\n",
    "rforest = RandomForestClassifier(n_estimators=100,\n",
    "                                max_features=2,\n",
    "                                random_state=0)\n",
    "\n",
    "rforest_scores = cross_val_score(rforest, X_train, y_train, cv=shuffsplit)\n",
    "print(rforest_scores)\n",
    "print(f\"Mean: {rforest_scores.mean()}\")"
   ]
  },
  {
   "cell_type": "code",
   "execution_count": null,
   "metadata": {},
   "outputs": [],
   "source": [
    "rforest.fit(X_train, y_train)\n",
    "\n",
    "export_graphviz(\n",
    "    rforest.estimators_[6],\n",
    "    out_file='../graphical_models/rf_classified.gv',\n",
    "    filled=False,\n",
    "    rounded=True,\n",
    "    feature_names=interpretable_names,\n",
    "    class_names=le.classes_,\n",
    ")"
   ]
  },
  {
   "cell_type": "markdown",
   "metadata": {},
   "source": [
    "## Gradient Boosted Machines\n"
   ]
  },
  {
   "cell_type": "code",
   "execution_count": null,
   "metadata": {},
   "outputs": [],
   "source": [
    "from sklearn.ensemble import GradientBoostingClassifier\n",
    "\n",
    "gboost = GradientBoostingClassifier(n_estimators=100,\n",
    "                                random_state=0)\n",
    "\n",
    "gboost_scores = cross_val_score(gboost, X_train, y_train, cv=shuffsplit)\n",
    "print(gboost_scores)\n",
    "print(f\"Mean: {gboost_scores.mean()}\")"
   ]
  },
  {
   "cell_type": "code",
   "execution_count": null,
   "metadata": {},
   "outputs": [],
   "source": [
    "model_list = [dtclass,\n",
    "dtclass_pruned,\n",
    "bag_of_trees.fit(X_train, y_train),\n",
    "rforest,\n",
    "gboost.fit(X_train, y_train)]\n",
    "\n",
    "for model in model_list:\n",
    "    print(model.score(X_test, y_test))\n"
   ]
  },
  {
   "cell_type": "markdown",
   "metadata": {},
   "source": [
    "# Evaluation Beyond Accuracy\n",
    "## Balancing False Positives and False Negatives in Classification Models\n",
    "## Improving Binary Classification with Curves\n",
    "### Precision-Recall Curves\n",
    "### Beyond Binary Classifiers \n"
   ]
  },
  {
   "cell_type": "markdown",
   "metadata": {},
   "source": [
    "# CONCLUSION\n",
    "## Key Points \n"
   ]
  }
 ],
 "metadata": {
  "kernelspec": {
   "display_name": "Python 3",
   "language": "python",
   "name": "python3"
  },
  "language_info": {
   "codemirror_mode": {
    "name": "ipython",
    "version": 3
   },
   "file_extension": ".py",
   "mimetype": "text/x-python",
   "name": "python",
   "nbconvert_exporter": "python",
   "pygments_lexer": "ipython3",
   "version": "3.9.0"
  },
  "toc": {
   "base_numbering": 1,
   "nav_menu": {},
   "number_sections": false,
   "sideBar": true,
   "skip_h1_title": false,
   "title_cell": "Table of Contents",
   "title_sidebar": "Contents",
   "toc_cell": false,
   "toc_position": {},
   "toc_section_display": true,
   "toc_window_display": false
  },
  "varInspector": {
   "cols": {
    "lenName": 16,
    "lenType": 16,
    "lenVar": 40
   },
   "kernels_config": {
    "python": {
     "delete_cmd_postfix": "",
     "delete_cmd_prefix": "del ",
     "library": "var_list.py",
     "varRefreshCmd": "print(var_dic_list())"
    },
    "r": {
     "delete_cmd_postfix": ") ",
     "delete_cmd_prefix": "rm(",
     "library": "var_list.r",
     "varRefreshCmd": "cat(var_dic_list()) "
    }
   },
   "types_to_exclude": [
    "module",
    "function",
    "builtin_function_or_method",
    "instance",
    "_Feature"
   ],
   "window_display": false
  }
 },
 "nbformat": 4,
 "nbformat_minor": 4
}
