{
 "cells": [
  {
   "cell_type": "markdown",
   "metadata": {},
   "source": [
    "# <font color=\"#49699E\" size=40>Collecting Data from Application Programming Interfaces (APIs)</font>\n",
    "# LEARNING OBJECTIVES\n",
    "# LEARNING MATERIALS\n",
    "# INTRODUCTION\n"
   ]
  },
  {
   "cell_type": "markdown",
   "metadata": {},
   "source": [
    "## WHAT IS AN API?\n"
   ]
  },
  {
   "cell_type": "markdown",
   "metadata": {},
   "source": [
    "### RESTful APIs\n"
   ]
  },
  {
   "cell_type": "markdown",
   "metadata": {},
   "source": [
    "### Making Requests with Python\n"
   ]
  },
  {
   "cell_type": "markdown",
   "metadata": {},
   "source": [
    "### API Keys, Tokens\n"
   ]
  },
  {
   "cell_type": "markdown",
   "metadata": {},
   "source": [
    "### Responses\n"
   ]
  },
  {
   "cell_type": "markdown",
   "metadata": {},
   "source": [
    "## GETTING PRACTICAL: WORKING WITH APIS\n"
   ]
  },
  {
   "cell_type": "markdown",
   "metadata": {},
   "source": [
    "### *The Guardian*\n"
   ]
  },
  {
   "cell_type": "markdown",
   "metadata": {},
   "source": [
    "#### Accessing *The Guardian* API\n"
   ]
  },
  {
   "cell_type": "code",
   "execution_count": null,
   "metadata": {},
   "outputs": [],
   "source": [
    "import cred\n",
    "GUARDIAN_KEY = cred.GUARDIAN_KEY"
   ]
  },
  {
   "cell_type": "markdown",
   "metadata": {},
   "source": [
    "#### Making Requests\n"
   ]
  },
  {
   "cell_type": "code",
   "execution_count": null,
   "metadata": {},
   "outputs": [],
   "source": [
    "import requests\n",
    "import pprint as pp  # pretty print!\n",
    "\n",
    "API_ENDPOINT = 'http://content.guardianapis.com/search'\n",
    "PARAMS = {'api-key': GUARDIAN_KEY}\n",
    "\n",
    "response = requests.get(API_ENDPOINT, params=PARAMS)\n",
    "response_dict = response.json()['response']\n",
    "print(len(response_dict))"
   ]
  },
  {
   "cell_type": "code",
   "execution_count": null,
   "metadata": {},
   "outputs": [],
   "source": [
    "print(response_dict.keys())"
   ]
  },
  {
   "cell_type": "markdown",
   "metadata": {},
   "source": [
    "#### Filtering Results\n"
   ]
  },
  {
   "cell_type": "code",
   "execution_count": null,
   "metadata": {},
   "outputs": [],
   "source": [
    "PARAMS = {\n",
    "    'api-key': GUARDIAN_KEY,\n",
    "    'from-date': '2020-04-10',\n",
    "    'to-date': '2020-04-10',\n",
    "    'lang': 'en',\n",
    "    'production-office': 'uk',\n",
    "    'q': 'coronavirus'\n",
    "}\n",
    "\n",
    "response = requests.get(API_ENDPOINT, params=PARAMS)\n",
    "response_dict = response.json()['response']"
   ]
  },
  {
   "cell_type": "code",
   "execution_count": null,
   "metadata": {},
   "outputs": [],
   "source": [
    "print(response_dict.keys())"
   ]
  },
  {
   "cell_type": "code",
   "execution_count": null,
   "metadata": {},
   "outputs": [],
   "source": [
    "PARAMS = {\n",
    "    'api-key': GUARDIAN_KEY,\n",
    "    'from-date': '2020-04-10',\n",
    "    'to-date': '2020-04-10',\n",
    "    'lang': 'en',\n",
    "    'production-office': 'uk',\n",
    "    'q': 'coronavirus',\n",
    "    'show-fields': 'wordcount,body,byline'\n",
    "}\n",
    "\n",
    "response = requests.get(API_ENDPOINT, params=PARAMS)\n",
    "response_dict = response.json()['response']"
   ]
  },
  {
   "cell_type": "markdown",
   "metadata": {},
   "source": [
    "#### Asking for More Data\n"
   ]
  },
  {
   "cell_type": "code",
   "execution_count": null,
   "metadata": {},
   "outputs": [],
   "source": [
    "PARAMS = {\n",
    "    'api-key': GUARDIAN_KEY,\n",
    "    'from-date': '2020-04-10',\n",
    "    'to-date': '2020-04-10',\n",
    "    'lang': 'en',\n",
    "    'production-office': 'uk',\n",
    "    'q': 'coronavirus',\n",
    "    'show-fields': 'wordcount,body,byline',\n",
    "    'page-size': 50,\n",
    "}\n",
    "\n",
    "response = requests.get(API_ENDPOINT, params=PARAMS)\n",
    "response_dict = response.json()['response']"
   ]
  },
  {
   "cell_type": "code",
   "execution_count": null,
   "metadata": {},
   "outputs": [],
   "source": [
    "all_results = []\n",
    "cur_page = 1\n",
    "total_pages = 1\n",
    "\n",
    "while (cur_page <= total_pages) and (cur_page < 10):  # with a fail safe\n",
    "    # Make a API request\n",
    "    PARAMS['page'] = cur_page\n",
    "    response = requests.get(API_ENDPOINT, params=PARAMS)\n",
    "    response_dict = response.json()['response']\n",
    "\n",
    "    # Update our master results list\n",
    "    all_results += (response_dict['results'])\n",
    "\n",
    "    # Update our loop variables\n",
    "    total_pages = response_dict['pages']\n",
    "    cur_page += 1"
   ]
  },
  {
   "cell_type": "code",
   "execution_count": null,
   "metadata": {},
   "outputs": [],
   "source": [
    "len(all_results)"
   ]
  },
  {
   "cell_type": "markdown",
   "metadata": {},
   "source": [
    "#### Storing Your Data\n"
   ]
  },
  {
   "cell_type": "code",
   "execution_count": null,
   "metadata": {},
   "outputs": [],
   "source": [
    "import json\n",
    "FILE_PATH = 'guardian_api_results.json'\n",
    "with open(FILE_PATH, 'w') as outfile:\n",
    "    json.dump(all_results, outfile)"
   ]
  },
  {
   "cell_type": "markdown",
   "metadata": {},
   "source": [
    "# CONCLUSION\n",
    "## Key Points \n"
   ]
  }
 ],
 "metadata": {
  "kernelspec": {
   "display_name": "Python 3",
   "language": "python",
   "name": "python3"
  },
  "language_info": {
   "codemirror_mode": {
    "name": "ipython",
    "version": 3
   },
   "file_extension": ".py",
   "mimetype": "text/x-python",
   "name": "python",
   "nbconvert_exporter": "python",
   "pygments_lexer": "ipython3",
   "version": "3.9.0"
  },
  "toc": {
   "base_numbering": 1,
   "nav_menu": {},
   "number_sections": true,
   "sideBar": true,
   "skip_h1_title": true,
   "title_cell": "Table of Contents",
   "title_sidebar": "Contents",
   "toc_cell": false,
   "toc_position": {},
   "toc_section_display": true,
   "toc_window_display": false
  },
  "varInspector": {
   "cols": {
    "lenName": 16,
    "lenType": 16,
    "lenVar": 40
   },
   "kernels_config": {
    "python": {
     "delete_cmd_postfix": "",
     "delete_cmd_prefix": "del ",
     "library": "var_list.py",
     "varRefreshCmd": "print(var_dic_list())"
    },
    "r": {
     "delete_cmd_postfix": ") ",
     "delete_cmd_prefix": "rm(",
     "library": "var_list.r",
     "varRefreshCmd": "cat(var_dic_list()) "
    }
   },
   "types_to_exclude": [
    "module",
    "function",
    "builtin_function_or_method",
    "instance",
    "_Feature"
   ],
   "window_display": false
  }
 },
 "nbformat": 4,
 "nbformat_minor": 4
}
