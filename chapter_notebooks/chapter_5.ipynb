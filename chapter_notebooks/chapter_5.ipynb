{
 "cells": [
  {
   "cell_type": "markdown",
   "metadata": {},
   "source": [
    "# <font color=\"#49699E\" size=40>Collecting Data from the Web: Scraping</font>"
   ]
  },
  {
   "cell_type": "markdown",
   "metadata": {},
   "source": [
    "# LEARNING OBJECTIVES\n",
    "# LEARNING MATERIALS\n"
   ]
  },
  {
   "cell_type": "markdown",
   "metadata": {},
   "source": [
    "# INTRODUCTION\n"
   ]
  },
  {
   "cell_type": "markdown",
   "metadata": {},
   "source": [
    "# AN HTML AND CSS PRIMER FOR WEB SCRAPERS\n"
   ]
  },
  {
   "cell_type": "markdown",
   "metadata": {},
   "source": [
    "## DEVELOPING YOUR FIRST WEB SCRAPER\n"
   ]
  },
  {
   "cell_type": "markdown",
   "metadata": {},
   "source": [
    "### Studying Website Source Code with Developer Tools\n"
   ]
  },
  {
   "cell_type": "markdown",
   "metadata": {},
   "source": [
    "### Coding a Web Scraper for a Single Page\n"
   ]
  },
  {
   "cell_type": "code",
   "execution_count": null,
   "metadata": {},
   "outputs": [],
   "source": [
    "import requests\n",
    "from bs4 import BeautifulSoup\n",
    "import pandas as pd\n",
    "\n",
    "url = 'https://www.theguardian.com/politics/2019/aug/02/europes-view-on-boris-johnson'\n",
    "\n",
    "r = requests.get(url)\n",
    "soup = BeautifulSoup(r.content, 'lxml')"
   ]
  },
  {
   "cell_type": "code",
   "execution_count": null,
   "metadata": {},
   "outputs": [],
   "source": [
    "article_title = soup.findAll('title')[0].text.replace('\\n', '')\n",
    "print(article_title)"
   ]
  },
  {
   "cell_type": "code",
   "execution_count": null,
   "metadata": {},
   "outputs": [],
   "source": [
    "paragraphs = soup.findAll('p')"
   ]
  },
  {
   "cell_type": "code",
   "execution_count": null,
   "metadata": {},
   "outputs": [],
   "source": [
    "paragraphs[8].text"
   ]
  },
  {
   "cell_type": "code",
   "execution_count": null,
   "metadata": {},
   "outputs": [],
   "source": [
    "all_text = \" \".join(para.text for para in paragraphs)"
   ]
  },
  {
   "cell_type": "code",
   "execution_count": null,
   "metadata": {},
   "outputs": [],
   "source": [
    "def scrape_guardian_stories(url):\n",
    "    soup = BeautifulSoup(requests.get(url).content, 'lxml')\n",
    "    article_title = soup.find('title').text.replace('\\n', '')\n",
    "    paras = \" \".join(para.text.replace('\\n', '') for para in soup.findAll('p'))\n",
    "    return [article_title, paras]"
   ]
  },
  {
   "cell_type": "code",
   "execution_count": null,
   "metadata": {},
   "outputs": [],
   "source": [
    "with open('../data/scraping/guardian_story_links.txt') as f:\n",
    "    stories = [line.rstrip() for line in f]\n",
    "\n",
    "scraped = [scrape_guardian_stories(s) for s in stories]\n",
    "df_scraped = pd.DataFrame(scraped, columns=['Title', 'Article Text'])\n",
    "print(df_scraped.info())"
   ]
  },
  {
   "cell_type": "markdown",
   "metadata": {},
   "source": [
    "### Working with Many Webpages\n"
   ]
  },
  {
   "cell_type": "code",
   "execution_count": null,
   "metadata": {},
   "outputs": [],
   "source": [
    "def scrape_UNSD_project(url):\n",
    "    result = requests.get(url)\n",
    "    if result.ok:\n",
    "        soup = BeautifulSoup(result.content, 'lxml')\n",
    "        headline = soup.find(id='headline').getText()\n",
    "        intro = \" \".join(\n",
    "            [segment for segment in soup.find(id='intro').stripped_strings])\n",
    "        return [headline, intro]\n",
    "    else:\n",
    "        return None"
   ]
  },
  {
   "cell_type": "code",
   "execution_count": null,
   "metadata": {},
   "outputs": [],
   "source": [
    "base_url = \"https://sustainabledevelopment.un.org/partnership/?p={}\"\n",
    "starting_number = 30000\n",
    "target_records = 30"
   ]
  },
  {
   "cell_type": "code",
   "execution_count": null,
   "metadata": {},
   "outputs": [],
   "source": [
    "scraped = []\n",
    "\n",
    "current_number = starting_number\n",
    "\n",
    "while len(scraped) < target_records:\n",
    "    url = base_url.format(current_number)\n",
    "    try:\n",
    "        output = scrape_UNSD_project(url)\n",
    "        if output is not None:\n",
    "            print(f\"scraping {current_number}\")\n",
    "            scraped.append(output)\n",
    "    except AttributeError:\n",
    "        pass\n",
    "    current_number += 1\n",
    "\n",
    "df_scraped = pd.DataFrame(scraped, columns=['Headline', 'Introduction'])\n",
    "\n",
    "print(df_scraped.info())"
   ]
  },
  {
   "cell_type": "markdown",
   "metadata": {},
   "source": [
    "## ETHICAL AND LEGAL ISSUES IN WEB SCRAPING\n"
   ]
  },
  {
   "cell_type": "markdown",
   "metadata": {},
   "source": [
    "# CONCLUSION\n",
    "## Key Points \n"
   ]
  }
 ],
 "metadata": {
  "kernelspec": {
   "display_name": "Python 3",
   "language": "python",
   "name": "python3"
  },
  "language_info": {
   "codemirror_mode": {
    "name": "ipython",
    "version": 3
   },
   "file_extension": ".py",
   "mimetype": "text/x-python",
   "name": "python",
   "nbconvert_exporter": "python",
   "pygments_lexer": "ipython3",
   "version": "3.9.0"
  },
  "toc": {
   "base_numbering": 1,
   "nav_menu": {},
   "number_sections": true,
   "sideBar": true,
   "skip_h1_title": true,
   "title_cell": "Table of Contents",
   "title_sidebar": "Contents",
   "toc_cell": false,
   "toc_position": {},
   "toc_section_display": true,
   "toc_window_display": false
  },
  "varInspector": {
   "cols": {
    "lenName": 16,
    "lenType": 16,
    "lenVar": 40
   },
   "kernels_config": {
    "python": {
     "delete_cmd_postfix": "",
     "delete_cmd_prefix": "del ",
     "library": "var_list.py",
     "varRefreshCmd": "print(var_dic_list())"
    },
    "r": {
     "delete_cmd_postfix": ") ",
     "delete_cmd_prefix": "rm(",
     "library": "var_list.r",
     "varRefreshCmd": "cat(var_dic_list()) "
    }
   },
   "types_to_exclude": [
    "module",
    "function",
    "builtin_function_or_method",
    "instance",
    "_Feature"
   ],
   "window_display": false
  }
 },
 "nbformat": 4,
 "nbformat_minor": 4
}
